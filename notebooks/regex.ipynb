{
 "cells": [
  {
   "cell_type": "markdown",
   "id": "93c195c1",
   "metadata": {},
   "source": [
    "# Expresiones regulares (regex)"
   ]
  },
  {
   "cell_type": "markdown",
   "id": "6dc7a74f",
   "metadata": {},
   "source": [
    "**Ejemplos con casos de uso**\n",
    "\n",
    "Primero que nada, importar la librería **re** que es el módulo que trabaja con Expresiones Regulares."
   ]
  },
  {
   "cell_type": "code",
   "execution_count": 3,
   "id": "93776686",
   "metadata": {},
   "outputs": [],
   "source": [
    "import re"
   ]
  },
  {
   "cell_type": "markdown",
   "id": "ad02e768",
   "metadata": {},
   "source": [
    "Buscará dentro del string cualquier caracter comprendido de la **a** a la **z** junto a la sílaba **way**\n",
    "El resultado estará en **match** y **span** contiene el índice inicial y final del resultado de la búsqueda."
   ]
  },
  {
   "cell_type": "code",
   "execution_count": 16,
   "id": "5f3bad2e",
   "metadata": {},
   "outputs": [
    {
     "name": "stdout",
     "output_type": "stream",
     "text": [
      "<re.Match object; span=(18, 22), match='bway'>\n"
     ]
    }
   ],
   "source": [
    "print(re.search(r\"[a-zA-Z]way\", \"Let's go to the subway\"))"
   ]
  },
  {
   "cell_type": "markdown",
   "id": "33ecd75b",
   "metadata": {},
   "source": [
    "Buscará dentro del string cualquier caracter comprendido de la **a** a la **z**, **A** a la **Z** y **0** al **9**"
   ]
  },
  {
   "cell_type": "code",
   "execution_count": 11,
   "id": "80be2939",
   "metadata": {},
   "outputs": [
    {
     "name": "stdout",
     "output_type": "stream",
     "text": [
      "<re.Match object; span=(0, 6), match='Sclub7'>\n"
     ]
    }
   ],
   "source": [
    "print(re.search(\"Sclub[a-zA-Z0-9]\", \"Sclub7\"))"
   ]
  },
  {
   "cell_type": "markdown",
   "id": "be1d9213",
   "metadata": {},
   "source": [
    "## Busqueda de excepciones"
   ]
  },
  {
   "cell_type": "markdown",
   "id": "185b2a9f",
   "metadata": {},
   "source": [
    "Si queremos buscar, dentro de una cadena, cualquier caracter que no sea una letra se utilizaría el simbolos **^** dentro de corchetes **[^]**\n",
    "\n",
    "Como por ejemplo,"
   ]
  },
  {
   "cell_type": "code",
   "execution_count": 12,
   "id": "04d8d7e7",
   "metadata": {},
   "outputs": [
    {
     "name": "stdout",
     "output_type": "stream",
     "text": [
      "<re.Match object; span=(4, 5), match=' '>\n"
     ]
    }
   ],
   "source": [
    "print(re.search(r\"[^a-zA-Z]\", \"Esta es una oración con espacios.\"))"
   ]
  },
  {
   "cell_type": "markdown",
   "id": "ddb6cb25",
   "metadata": {},
   "source": [
    "Como se pudo observar, el resultado *match* arrojo un espacio en blanco. Que nos da a entender que el espacio **'  '** también es considerado un carácter dentro de nuestro mundo de expresiones regulares. Para no tomarlo, se debe parametrizar dentro de los corchetes. Ejemplo a continuación:"
   ]
  },
  {
   "cell_type": "code",
   "execution_count": 14,
   "id": "3c7f09c3",
   "metadata": {},
   "outputs": [
    {
     "name": "stdout",
     "output_type": "stream",
     "text": [
      "<re.Match object; span=(17, 18), match='ó'>\n"
     ]
    }
   ],
   "source": [
    "print(re.search(r\"[^a-zA-Z ]\", \"Esta es una oración con espacios.\"))"
   ]
  },
  {
   "cell_type": "markdown",
   "id": "b87f4979",
   "metadata": {},
   "source": [
    "Vemos que el resultado en *match* cambió a **ó** pero ésta sigue siendo una letra acentuada entonces *¿cómo podemos excluirla por medio de expresiones regualres?*"
   ]
  },
  {
   "cell_type": "code",
   "execution_count": 36,
   "id": "b7653d7d",
   "metadata": {},
   "outputs": [
    {
     "name": "stdout",
     "output_type": "stream",
     "text": [
      "<re.Match object; span=(32, 33), match='.'>\n"
     ]
    }
   ],
   "source": [
    "print(re.search(r\"[^a-zA-Z\\u00C0-\\u024F\\s]\", \"Esta es una oración con espacios.\"))"
   ]
  },
  {
   "cell_type": "markdown",
   "id": "0c1b5c54",
   "metadata": {},
   "source": [
    "Ahora podemos ver que, agregando **\\u00C0-\\u024F** excluimos las letras tildadas y en cambio el resultado muestra el signo de puntuación. Siempre podemos adaptar regex a nuestras necesidades de búsqueda. Incluso, en el código anterior hubo un cambio en la expresión regular. Es una mejor practica adoptar el **/s** para incluir espacios que un **'  '** espacio en blanco. "
   ]
  },
  {
   "cell_type": "markdown",
   "id": "f1c834ec",
   "metadata": {},
   "source": [
    "## Coincidir palabras con Regex"
   ]
  },
  {
   "cell_type": "markdown",
   "id": "e99ff0a8",
   "metadata": {},
   "source": [
    "Para buscar por medio de la coincidencia una palabra completa, se puede utilizar el símbolo reservado **|**, \n",
    "he aquí un ejemplo:\n"
   ]
  },
  {
   "cell_type": "code",
   "execution_count": 38,
   "id": "f94054f0",
   "metadata": {},
   "outputs": [
    {
     "name": "stdout",
     "output_type": "stream",
     "text": [
      "<re.Match object; span=(14, 19), match='perro'>\n"
     ]
    }
   ],
   "source": [
    "print(re.search(r\"gato|perro\", \"Me gustan los perros\"))"
   ]
  },
  {
   "cell_type": "markdown",
   "id": "f07e7e55",
   "metadata": {},
   "source": [
    "Podemos ver que la oración buscó una de las palabras parametrizadas en la regex. Mas no puede identificar si está en plural o singular. Éste sería un problema que, dependiendo de las necesidades de nuestra búsqueda debemos resolver o no."
   ]
  },
  {
   "cell_type": "markdown",
   "id": "6335162b",
   "metadata": {},
   "source": [
    "Ahora bien, si queremos modificamos la oración para que por medio de regex nos encuentre las dos palabras, el método que tendríamos que utilizar sería el siguiente:"
   ]
  },
  {
   "cell_type": "code",
   "execution_count": 39,
   "id": "590cea33",
   "metadata": {},
   "outputs": [
    {
     "name": "stdout",
     "output_type": "stream",
     "text": [
      "['perro', 'gato']\n"
     ]
    }
   ],
   "source": [
    "print(re.findall(r\"gato|perro\", \"Me gustan los perros pero amo a los gatos\"))"
   ]
  },
  {
   "cell_type": "markdown",
   "id": "8a121235",
   "metadata": {},
   "source": [
    "El método re.**findall** nos buscará todas las coincidencias que hayamos parametrizado. Hacerlo con el método anterior re.search nos mostrará sólo la primera coincidencia. "
   ]
  },
  {
   "cell_type": "markdown",
   "id": "fdb1e4e8",
   "metadata": {},
   "source": [
    "## Coincidir simbolos con regex"
   ]
  },
  {
   "cell_type": "markdown",
   "id": "fd89787a",
   "metadata": {},
   "source": [
    "Tenemos simbolos reservados para utilizar con regex que nos ayudan a coincidir cualquier caracter **(*)**"
   ]
  },
  {
   "cell_type": "markdown",
   "id": "f05b4225",
   "metadata": {},
   "source": [
    "Buscar si el inicio de una cadena coincide **^ejemplo** o el final **ejemplo$** o si queremos excluir lo que está dentro de los corchetes, ejemplo **[^estonoseincluye]**"
   ]
  },
  {
   "cell_type": "markdown",
   "id": "b9d7527e",
   "metadata": {},
   "source": [
    "A continuación dejaré un regex que buscará cualquier correo electronico dentro de cualquier texto"
   ]
  },
  {
   "cell_type": "code",
   "execution_count": 108,
   "id": "d0e45993",
   "metadata": {},
   "outputs": [
    {
     "name": "stdout",
     "output_type": "stream",
     "text": [
      "['Josefino@aol.com', 'gatita69@hotmail.com']\n"
     ]
    }
   ],
   "source": [
    "print(re.findall(r\"(?i)\\b[a-z0-9._%+-]+@[a-z0-9.-]+\\.[A-Z]{2,}\\b\", \"Hola me llamo jose y mi correo es Josefino@aol.com si quieres contactar a mi esposa su correo es gatita69@hotmail.com\"))"
   ]
  },
  {
   "cell_type": "markdown",
   "id": "01f22333",
   "metadata": {},
   "source": [
    "Incluso puede copiar y pegar cualquier texto y el regex extraerá sólo los emails dentro del texto *(si contiene)*"
   ]
  },
  {
   "cell_type": "code",
   "execution_count": 106,
   "id": "0785b535",
   "metadata": {},
   "outputs": [
    {
     "name": "stdout",
     "output_type": "stream",
     "text": [
      "Pega tu texto aquí:\n",
      "\n",
      "sdfsdf@rifel.net\n"
     ]
    }
   ],
   "source": [
    "texto = input(\"Pega tu texto aquí:\\n\\n\")\n"
   ]
  },
  {
   "cell_type": "code",
   "execution_count": 107,
   "id": "dc172e71",
   "metadata": {},
   "outputs": [
    {
     "name": "stdout",
     "output_type": "stream",
     "text": [
      "['sdfsdf@rifel.net']\n"
     ]
    }
   ],
   "source": [
    "#Ejecuta ésta celda despues de pegar tu texto para ver el resultado:\n",
    "\n",
    "regex = r\"(?i)\\b[a-z0-9._%+-]+@[a-z0-9.-]+\\.[A-Z]{2,}\\b\"\n",
    "\n",
    "resultado = re.findall(regex, texto)\n",
    "\n",
    "print(resultado)"
   ]
  },
  {
   "cell_type": "markdown",
   "id": "ef807c74",
   "metadata": {},
   "source": [
    "Para entender mejor el regex habría de desglosarlo por partes:\n",
    "\n",
    "**(?i):** Hace que el regex se vuelva insensible a las mayusculas y minusculas IGNORECASESENSITIVE\n",
    "\n",
    "**\\b:** Establece la posición inicial y final de la palabra que queremos buscar, por ejemplo: *Aquí queremos solo buscar la palabra **/besdrújula/b** *\n",
    "\n",
    "**[a-z0-9._%+-]:** Establece el rango de busqueda, dónde parametriza cualquier caracter desde a a-z 0-9 \n",
    "\n",
    "**+@, +\\.:** Concatena el \"@\" y el \".\" estipulando que coincidirá con 1 o más coincidencias con el caracter anterior."
   ]
  },
  {
   "cell_type": "markdown",
   "id": "432563fa",
   "metadata": {},
   "source": [
    "## Captura de grupos con regex\n",
    "\n",
    "Regex es la herramienta más polivalente de la programación, dominarla nos permitirá escontrar cualquier cosa que necesitemos de forma exacta. Con la biblioteca de expresiones regulares tenemos el metodo **.groups()** que nos agrupa los resultado de busqueda dejándonos ordenar los grupos de la mejor manera para nosotros. A continuación, ejemplos:\n"
   ]
  },
  {
   "cell_type": "code",
   "execution_count": 8,
   "id": "1eb4bea8",
   "metadata": {},
   "outputs": [
    {
     "name": "stdout",
     "output_type": "stream",
     "text": [
      "<re.Match object; span=(0, 12), match='Pérez, María'>\n"
     ]
    }
   ],
   "source": [
    "resultado = re.search(r\"^(\\w*), (\\w*)$\", \"Pérez, María\")\n",
    "print(resultado)"
   ]
  },
  {
   "cell_type": "markdown",
   "id": "161b5967",
   "metadata": {},
   "source": [
    "Cada grupo está representado por **()** como se puede ver en la expresión regular **(\\w*)**, así es como separa el nombre del apellido y lo agrega en una tupla."
   ]
  },
  {
   "cell_type": "code",
   "execution_count": 9,
   "id": "887e7c47",
   "metadata": {},
   "outputs": [
    {
     "name": "stdout",
     "output_type": "stream",
     "text": [
      "('Pérez', 'María')\n"
     ]
    }
   ],
   "source": [
    "print(resultado.groups())"
   ]
  },
  {
   "cell_type": "markdown",
   "id": "bcaa5055",
   "metadata": {},
   "source": [
    "Podemos ordenar el nombre utilizando los *indices* donde el índice **[0]** representa el resultado completo de la expresión regular. "
   ]
  },
  {
   "cell_type": "code",
   "execution_count": 10,
   "id": "e4550883",
   "metadata": {},
   "outputs": [
    {
     "name": "stdout",
     "output_type": "stream",
     "text": [
      "Pérez, María\n"
     ]
    }
   ],
   "source": [
    "print(resultado[0])"
   ]
  },
  {
   "cell_type": "markdown",
   "id": "ffcf23eb",
   "metadata": {},
   "source": [
    "Para ordenar el nombre, sólo debemos utilizar los siguientes indices que corresponde al [1] y [2], se puede imprimir para corroborar que trae la información correcta."
   ]
  },
  {
   "cell_type": "code",
   "execution_count": 17,
   "id": "85d35470",
   "metadata": {},
   "outputs": [
    {
     "data": {
      "text/plain": [
       "'María Pérez'"
      ]
     },
     "execution_count": 17,
     "metadata": {},
     "output_type": "execute_result"
    }
   ],
   "source": [
    "apellido = resultado[1]\n",
    "nombre = resultado[2]\n",
    "\n",
    "f\"{nombre} {apellido}\"\n",
    "\n",
    "#También se puede hacer de forma clásica:\n",
    "# \"{} {}\".format(nombre, apellido)"
   ]
  },
  {
   "cell_type": "code",
   "execution_count": 32,
   "id": "28fff4b6",
   "metadata": {},
   "outputs": [
    {
     "data": {
      "text/plain": [
       "'Jessica D. Martinez'"
      ]
     },
     "execution_count": 32,
     "metadata": {},
     "output_type": "execute_result"
    }
   ],
   "source": [
    "def ordenar_nombres(nombre):\n",
    "    resultado = re.search(r\"^([\\w \\.-]*), ([\\w \\.-]*)$\", nombre)\n",
    "    if resultado is None:\n",
    "        return nombre\n",
    "    return \"{} {}\".format(resultado[2], resultado[1])\n",
    "\n",
    "ordenar_nombres(\"Pérez, María\")\n",
    "ordenar_nombres(\"Ramses, Samuel\")\n",
    "ordenar_nombres(\"Martinez, Jessica D.\")\n",
    "    "
   ]
  },
  {
   "cell_type": "code",
   "execution_count": null,
   "id": "a987c21e",
   "metadata": {},
   "outputs": [],
   "source": []
  }
 ],
 "metadata": {
  "kernelspec": {
   "display_name": "Python 3 (ipykernel)",
   "language": "python",
   "name": "python3"
  },
  "language_info": {
   "codemirror_mode": {
    "name": "ipython",
    "version": 3
   },
   "file_extension": ".py",
   "mimetype": "text/x-python",
   "name": "python",
   "nbconvert_exporter": "python",
   "pygments_lexer": "ipython3",
   "version": "3.10.6"
  }
 },
 "nbformat": 4,
 "nbformat_minor": 5
}
