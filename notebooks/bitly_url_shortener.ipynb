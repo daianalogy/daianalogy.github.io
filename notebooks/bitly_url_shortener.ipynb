{
  "cells": [
    {
      "cell_type": "markdown",
      "metadata": {
        "colab_type": "text",
        "id": "view-in-github"
      },
      "source": [
        "<a href=\"https://colab.research.google.com/github/daianalogy/daianalogy.github.io/blob/main/bitly_url_shortener.ipynb\" target=\"_parent\"><img src=\"https://colab.research.google.com/assets/colab-badge.svg\" alt=\"Open In Colab\"/></a>"
      ]
    },
    {
      "cell_type": "code",
      "execution_count": null,
      "metadata": {
        "colab": {
          "base_uri": "https://localhost:8080/"
        },
        "id": "09PII4uwh--9",
        "outputId": "3ae4b411-02c9-4a5d-bc50-b33f69cf910d"
      },
      "outputs": [
        {
          "name": "stdout",
          "output_type": "stream",
          "text": [
            "https://github.com/ashutosh1919/masterPortfolio.git\n"
          ]
        },
        {
          "data": {
            "text/plain": [
              "{'message': 'UNPROCESSABLE_ENTITY',\n",
              " 'resource': 'bitlinks',\n",
              " 'description': 'The JSON value provided is invalid.'}"
            ]
          },
          "execution_count": 113,
          "metadata": {},
          "output_type": "execute_result"
        }
      ],
      "source": [
        "import requests\n",
        "\n",
        "def create_short_url(url):\n",
        "    headers = {\n",
        "    'Authorization': '54b1691adf0cf8e78fc49bdff7803ec36fd2555e',\n",
        "    'Content-Type': 'application/json',\n",
        "}\n",
        "\n",
        "    data = { \"long_url\": url }\n",
        "\n",
        "    response = requests.post('https://api-ssl.bitly.com/v4/shorten', headers=headers, data=data)\n",
        "    jsondata = response.json()\n",
        "    return jsondata\n",
        "\n",
        "\n",
        "create_short_url(input())"
      ]
    },
    {
      "cell_type": "code",
      "execution_count": 1,
      "metadata": {
        "colab": {
          "base_uri": "https://localhost:8080/"
        },
        "id": "I2GtYEyihduK",
        "outputId": "f4e25ec9-1017-4d7b-c62b-cc59c801682a"
      },
      "outputs": [
        {
          "name": "stdout",
          "output_type": "stream",
          "text": [
            "https://bit.ly/3ixC0Xp\n"
          ]
        }
      ],
      "source": [
        "import requests\n",
        "\n",
        "\n",
        "headers = {\n",
        "    'Authorization': '54b1691adf0cf8e78fc49bdff7803ec36fd2555e',\n",
        "    'Content-Type': 'application/json',\n",
        "}\n",
        "\n",
        "data = '{ \"long_url\": \"https://github.com/daianalogy/daianalogy.github.io.git\" }'\n",
        "\n",
        "response = requests.post('https://api-ssl.bitly.com/v4/shorten', headers=headers, data=data)\n",
        "url = response.json()\n",
        "\n",
        "print(url['link'])"
      ]
    }
  ],
  "metadata": {
    "colab": {
      "authorship_tag": "ABX9TyN/w6dDhqwiFCNgXgv8pE2E",
      "include_colab_link": true,
      "provenance": []
    },
    "kernelspec": {
      "display_name": "Python 3",
      "name": "python3"
    },
    "language_info": {
      "name": "python"
    }
  },
  "nbformat": 4,
  "nbformat_minor": 0
}
